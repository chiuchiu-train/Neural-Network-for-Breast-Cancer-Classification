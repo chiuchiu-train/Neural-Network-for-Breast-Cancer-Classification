{
  "nbformat": 4,
  "nbformat_minor": 0,
  "metadata": {
    "colab": {
      "name": "Neural Network and Decision Tree.ipynb",
      "provenance": []
    },
    "kernelspec": {
      "name": "python3",
      "display_name": "Python 3"
    },
    "language_info": {
      "name": "python"
    }
  },
  "cells": [
    {
      "cell_type": "markdown",
      "metadata": {
        "id": "EzprbLp-AJWV"
      },
      "source": [
        "# Preprocessing"
      ]
    },
    {
      "cell_type": "code",
      "metadata": {
        "id": "YFpHSCUFYfDf"
      },
      "source": [
        "import pandas as pd\n",
        "import numpy as np\n",
        "import tensorflow as tf\n",
        "from tensorflow import keras"
      ],
      "execution_count": null,
      "outputs": []
    },
    {
      "cell_type": "code",
      "metadata": {
        "colab": {
          "resources": {
            "http://localhost:8080/nbextensions/google.colab/files.js": {
              "data": "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",
              "ok": true,
              "headers": [
                [
                  "content-type",
                  "application/javascript"
                ]
              ],
              "status": 200,
              "status_text": ""
            }
          },
          "base_uri": "https://localhost:8080/",
          "height": 72
        },
        "id": "2crLOkNxX6cW",
        "outputId": "a68f989a-470b-416f-d1c3-cefa37a03569"
      },
      "source": [
        "from google.colab import files\n",
        "uploaded = files.upload()\n",
        "df = pd.read_csv('processed_data.txt', sep=',')"
      ],
      "execution_count": null,
      "outputs": [
        {
          "output_type": "display_data",
          "data": {
            "text/html": [
              "\n",
              "     <input type=\"file\" id=\"files-afaf64d8-cdb5-4654-820c-55244fb54a6d\" name=\"files[]\" multiple disabled\n",
              "        style=\"border:none\" />\n",
              "     <output id=\"result-afaf64d8-cdb5-4654-820c-55244fb54a6d\">\n",
              "      Upload widget is only available when the cell has been executed in the\n",
              "      current browser session. Please rerun this cell to enable.\n",
              "      </output>\n",
              "      <script src=\"/nbextensions/google.colab/files.js\"></script> "
            ],
            "text/plain": [
              "<IPython.core.display.HTML object>"
            ]
          },
          "metadata": {
            "tags": []
          }
        },
        {
          "output_type": "stream",
          "text": [
            "Saving processed_data.txt to processed_data.txt\n"
          ],
          "name": "stdout"
        }
      ]
    },
    {
      "cell_type": "code",
      "metadata": {
        "id": "zXGzpFNdZARZ"
      },
      "source": [
        "df = df.drop(['Uniformity_Cell_Shape'], axis=1)"
      ],
      "execution_count": null,
      "outputs": []
    },
    {
      "cell_type": "code",
      "metadata": {
        "id": "soNXO5HzZ4FU"
      },
      "source": [
        "# Train/test splitting\n",
        "from sklearn.model_selection import train_test_split\n",
        "X = df.iloc[:, 0:-1]\n",
        "Y = df['Class']\n",
        "(x_train,x_test,y_train,y_test) = train_test_split(X,Y,test_size=0.33, stratify=Y)"
      ],
      "execution_count": null,
      "outputs": []
    },
    {
      "cell_type": "markdown",
      "metadata": {
        "id": "yeu9DpA-AVKE"
      },
      "source": [
        "# Neural Network"
      ]
    },
    {
      "cell_type": "code",
      "metadata": {
        "id": "8sP3lhvGYYq5"
      },
      "source": [
        "def create_model(layer1=5, layer2=5):\n",
        "  np.random.seed(1)\n",
        "  tf.random.set_seed(1)\n",
        "  NN = keras.Sequential()\n",
        "  # Hidden layer 1\n",
        "  NN.add(keras.layers.Dense(3, input_dim = x_train.shape[1], activation='sigmoid'))\n",
        "  # Hidden layer 2\n",
        "  NN.add(keras.layers.Dense(3, activation='sigmoid'))\n",
        "  # Output layer\n",
        "  NN.add(keras.layers.Dense(1, activation='sigmoid'))\n",
        "  NN.compile(loss='mse', optimizer='sgd', metrics=['accuracy'])\n",
        "  return NN"
      ],
      "execution_count": null,
      "outputs": []
    },
    {
      "cell_type": "code",
      "metadata": {
        "colab": {
          "base_uri": "https://localhost:8080/"
        },
        "id": "jz2se250amG5",
        "outputId": "3537b745-05c5-4e25-f680-f6ae8c3e2eba"
      },
      "source": [
        "# Choosing hyperparameters\n",
        "from keras.wrappers.scikit_learn import KerasClassifier\n",
        "from sklearn.model_selection import GridSearchCV\n",
        "model = KerasClassifier(build_fn=create_model)\n",
        "param_grid={'layer1':[3,6,9,12], 'layer2':[3,6,9,12]}\n",
        "grid = GridSearchCV(estimator=model, param_grid=param_grid)\n",
        "grid_result = grid.fit(x_train, y_train)"
      ],
      "execution_count": null,
      "outputs": [
        {
          "output_type": "stream",
          "text": [
            "11/11 [==============================] - 1s 2ms/step - loss: 0.3410 - accuracy: 0.3457\n",
            "3/3 [==============================] - 0s 4ms/step - loss: 0.3483 - accuracy: 0.3182\n",
            "11/11 [==============================] - 0s 2ms/step - loss: 0.3493 - accuracy: 0.3229\n",
            "3/3 [==============================] - 0s 4ms/step - loss: 0.3149 - accuracy: 0.4091\n",
            "11/11 [==============================] - 0s 2ms/step - loss: 0.3482 - accuracy: 0.3257\n",
            "3/3 [==============================] - 0s 4ms/step - loss: 0.3193 - accuracy: 0.3977\n",
            "11/11 [==============================] - 0s 2ms/step - loss: 0.3383 - accuracy: 0.3533\n",
            "3/3 [==============================] - 0s 4ms/step - loss: 0.3594 - accuracy: 0.2874\n",
            "11/11 [==============================] - 0s 2ms/step - loss: 0.3383 - accuracy: 0.3533\n",
            "WARNING:tensorflow:5 out of the last 13 calls to <function Model.make_test_function.<locals>.test_function at 0x7f49043abe60> triggered tf.function retracing. Tracing is expensive and the excessive number of tracings could be due to (1) creating @tf.function repeatedly in a loop, (2) passing tensors with different shapes, (3) passing Python objects instead of tensors. For (1), please define your @tf.function outside of the loop. For (2), @tf.function has experimental_relax_shapes=True option that relaxes argument shapes that can avoid unnecessary retracing. For (3), please refer to https://www.tensorflow.org/guide/function#controlling_retracing and https://www.tensorflow.org/api_docs/python/tf/function for  more details.\n",
            "3/3 [==============================] - 0s 4ms/step - loss: 0.3593 - accuracy: 0.2874\n",
            "11/11 [==============================] - 0s 2ms/step - loss: 0.3410 - accuracy: 0.3457\n",
            "WARNING:tensorflow:5 out of the last 13 calls to <function Model.make_test_function.<locals>.test_function at 0x7f4901bc5b90> triggered tf.function retracing. Tracing is expensive and the excessive number of tracings could be due to (1) creating @tf.function repeatedly in a loop, (2) passing tensors with different shapes, (3) passing Python objects instead of tensors. For (1), please define your @tf.function outside of the loop. For (2), @tf.function has experimental_relax_shapes=True option that relaxes argument shapes that can avoid unnecessary retracing. For (3), please refer to https://www.tensorflow.org/guide/function#controlling_retracing and https://www.tensorflow.org/api_docs/python/tf/function for  more details.\n",
            "3/3 [==============================] - 0s 4ms/step - loss: 0.3483 - accuracy: 0.3182\n",
            "11/11 [==============================] - 0s 2ms/step - loss: 0.3493 - accuracy: 0.3229\n",
            "3/3 [==============================] - 0s 4ms/step - loss: 0.3149 - accuracy: 0.4091\n",
            "11/11 [==============================] - 0s 2ms/step - loss: 0.3482 - accuracy: 0.3257\n",
            "3/3 [==============================] - 0s 4ms/step - loss: 0.3193 - accuracy: 0.3977\n",
            "11/11 [==============================] - 0s 2ms/step - loss: 0.3383 - accuracy: 0.3533\n",
            "3/3 [==============================] - 0s 4ms/step - loss: 0.3594 - accuracy: 0.2874\n",
            "11/11 [==============================] - 0s 2ms/step - loss: 0.3383 - accuracy: 0.3533\n",
            "3/3 [==============================] - 0s 4ms/step - loss: 0.3593 - accuracy: 0.2874\n",
            "11/11 [==============================] - 0s 2ms/step - loss: 0.3410 - accuracy: 0.3457\n",
            "3/3 [==============================] - 0s 4ms/step - loss: 0.3483 - accuracy: 0.3182\n",
            "11/11 [==============================] - 0s 2ms/step - loss: 0.3493 - accuracy: 0.3229\n",
            "3/3 [==============================] - 0s 5ms/step - loss: 0.3149 - accuracy: 0.4091\n",
            "11/11 [==============================] - 0s 2ms/step - loss: 0.3482 - accuracy: 0.3257\n",
            "3/3 [==============================] - 0s 4ms/step - loss: 0.3193 - accuracy: 0.3977\n",
            "11/11 [==============================] - 0s 2ms/step - loss: 0.3383 - accuracy: 0.3533\n",
            "3/3 [==============================] - 0s 4ms/step - loss: 0.3594 - accuracy: 0.2874\n",
            "11/11 [==============================] - 0s 2ms/step - loss: 0.3383 - accuracy: 0.3533\n",
            "3/3 [==============================] - 0s 4ms/step - loss: 0.3593 - accuracy: 0.2874\n",
            "11/11 [==============================] - 1s 2ms/step - loss: 0.3410 - accuracy: 0.3457\n",
            "3/3 [==============================] - 0s 4ms/step - loss: 0.3483 - accuracy: 0.3182\n",
            "11/11 [==============================] - 0s 2ms/step - loss: 0.3493 - accuracy: 0.3229\n",
            "3/3 [==============================] - 0s 4ms/step - loss: 0.3149 - accuracy: 0.4091\n",
            "11/11 [==============================] - 0s 2ms/step - loss: 0.3482 - accuracy: 0.3257\n",
            "3/3 [==============================] - 0s 3ms/step - loss: 0.3193 - accuracy: 0.3977\n",
            "11/11 [==============================] - 0s 2ms/step - loss: 0.3383 - accuracy: 0.3533\n",
            "3/3 [==============================] - 0s 4ms/step - loss: 0.3594 - accuracy: 0.2874\n",
            "11/11 [==============================] - 0s 2ms/step - loss: 0.3383 - accuracy: 0.3533\n",
            "3/3 [==============================] - 0s 4ms/step - loss: 0.3593 - accuracy: 0.2874\n",
            "11/11 [==============================] - 0s 2ms/step - loss: 0.3410 - accuracy: 0.3457\n",
            "3/3 [==============================] - 0s 3ms/step - loss: 0.3483 - accuracy: 0.3182\n",
            "11/11 [==============================] - 0s 2ms/step - loss: 0.3493 - accuracy: 0.3229\n",
            "3/3 [==============================] - 0s 4ms/step - loss: 0.3149 - accuracy: 0.4091\n",
            "11/11 [==============================] - 0s 2ms/step - loss: 0.3482 - accuracy: 0.3257\n",
            "3/3 [==============================] - 0s 3ms/step - loss: 0.3193 - accuracy: 0.3977\n",
            "11/11 [==============================] - 0s 2ms/step - loss: 0.3383 - accuracy: 0.3533\n",
            "3/3 [==============================] - 0s 4ms/step - loss: 0.3594 - accuracy: 0.2874\n",
            "11/11 [==============================] - 0s 2ms/step - loss: 0.3383 - accuracy: 0.3533\n",
            "3/3 [==============================] - 0s 4ms/step - loss: 0.3593 - accuracy: 0.2874\n",
            "11/11 [==============================] - 0s 2ms/step - loss: 0.3410 - accuracy: 0.3457\n",
            "3/3 [==============================] - 0s 3ms/step - loss: 0.3483 - accuracy: 0.3182\n",
            "11/11 [==============================] - 0s 2ms/step - loss: 0.3493 - accuracy: 0.3229\n",
            "3/3 [==============================] - 0s 4ms/step - loss: 0.3149 - accuracy: 0.4091\n",
            "11/11 [==============================] - 0s 2ms/step - loss: 0.3482 - accuracy: 0.3257\n",
            "3/3 [==============================] - 0s 4ms/step - loss: 0.3193 - accuracy: 0.3977\n",
            "11/11 [==============================] - 0s 2ms/step - loss: 0.3383 - accuracy: 0.3533\n",
            "3/3 [==============================] - 0s 4ms/step - loss: 0.3594 - accuracy: 0.2874\n",
            "11/11 [==============================] - 0s 2ms/step - loss: 0.3383 - accuracy: 0.3533\n",
            "3/3 [==============================] - 0s 3ms/step - loss: 0.3593 - accuracy: 0.2874\n",
            "11/11 [==============================] - 0s 2ms/step - loss: 0.3410 - accuracy: 0.3457\n",
            "3/3 [==============================] - 0s 5ms/step - loss: 0.3483 - accuracy: 0.3182\n",
            "11/11 [==============================] - 0s 2ms/step - loss: 0.3493 - accuracy: 0.3229\n",
            "3/3 [==============================] - 0s 3ms/step - loss: 0.3149 - accuracy: 0.4091\n",
            "11/11 [==============================] - 0s 2ms/step - loss: 0.3482 - accuracy: 0.3257\n",
            "3/3 [==============================] - 0s 4ms/step - loss: 0.3193 - accuracy: 0.3977\n",
            "11/11 [==============================] - 0s 2ms/step - loss: 0.3383 - accuracy: 0.3533\n",
            "3/3 [==============================] - 0s 3ms/step - loss: 0.3594 - accuracy: 0.2874\n",
            "11/11 [==============================] - 0s 2ms/step - loss: 0.3383 - accuracy: 0.3533\n",
            "3/3 [==============================] - 0s 4ms/step - loss: 0.3593 - accuracy: 0.2874\n",
            "11/11 [==============================] - 0s 2ms/step - loss: 0.3410 - accuracy: 0.3457\n",
            "3/3 [==============================] - 0s 6ms/step - loss: 0.3483 - accuracy: 0.3182\n",
            "11/11 [==============================] - 0s 2ms/step - loss: 0.3493 - accuracy: 0.3229\n",
            "3/3 [==============================] - 0s 5ms/step - loss: 0.3149 - accuracy: 0.4091\n",
            "11/11 [==============================] - 0s 2ms/step - loss: 0.3482 - accuracy: 0.3257\n",
            "3/3 [==============================] - 0s 5ms/step - loss: 0.3193 - accuracy: 0.3977\n",
            "11/11 [==============================] - 1s 2ms/step - loss: 0.3383 - accuracy: 0.3533\n",
            "3/3 [==============================] - 0s 4ms/step - loss: 0.3594 - accuracy: 0.2874\n",
            "11/11 [==============================] - 0s 2ms/step - loss: 0.3383 - accuracy: 0.3533\n",
            "3/3 [==============================] - 0s 4ms/step - loss: 0.3593 - accuracy: 0.2874\n",
            "11/11 [==============================] - 0s 2ms/step - loss: 0.3410 - accuracy: 0.3457\n",
            "3/3 [==============================] - 0s 3ms/step - loss: 0.3483 - accuracy: 0.3182\n",
            "11/11 [==============================] - 0s 2ms/step - loss: 0.3493 - accuracy: 0.3229\n",
            "3/3 [==============================] - 0s 5ms/step - loss: 0.3149 - accuracy: 0.4091\n",
            "11/11 [==============================] - 0s 2ms/step - loss: 0.3482 - accuracy: 0.3257\n",
            "3/3 [==============================] - 0s 5ms/step - loss: 0.3193 - accuracy: 0.3977\n",
            "11/11 [==============================] - 0s 2ms/step - loss: 0.3383 - accuracy: 0.3533\n",
            "3/3 [==============================] - 0s 4ms/step - loss: 0.3594 - accuracy: 0.2874\n",
            "11/11 [==============================] - 0s 2ms/step - loss: 0.3383 - accuracy: 0.3533\n",
            "3/3 [==============================] - 0s 3ms/step - loss: 0.3593 - accuracy: 0.2874\n",
            "11/11 [==============================] - 0s 2ms/step - loss: 0.3410 - accuracy: 0.3457\n",
            "3/3 [==============================] - 0s 4ms/step - loss: 0.3483 - accuracy: 0.3182\n",
            "11/11 [==============================] - 0s 2ms/step - loss: 0.3493 - accuracy: 0.3229\n",
            "3/3 [==============================] - 0s 4ms/step - loss: 0.3149 - accuracy: 0.4091\n",
            "11/11 [==============================] - 0s 2ms/step - loss: 0.3482 - accuracy: 0.3257\n",
            "3/3 [==============================] - 0s 4ms/step - loss: 0.3193 - accuracy: 0.3977\n",
            "11/11 [==============================] - 0s 2ms/step - loss: 0.3383 - accuracy: 0.3533\n",
            "3/3 [==============================] - 0s 3ms/step - loss: 0.3594 - accuracy: 0.2874\n",
            "11/11 [==============================] - 0s 2ms/step - loss: 0.3383 - accuracy: 0.3533\n",
            "3/3 [==============================] - 0s 6ms/step - loss: 0.3593 - accuracy: 0.2874\n",
            "11/11 [==============================] - 0s 2ms/step - loss: 0.3410 - accuracy: 0.3457\n",
            "3/3 [==============================] - 0s 4ms/step - loss: 0.3483 - accuracy: 0.3182\n",
            "11/11 [==============================] - 0s 2ms/step - loss: 0.3493 - accuracy: 0.3229\n",
            "3/3 [==============================] - 0s 5ms/step - loss: 0.3149 - accuracy: 0.4091\n",
            "11/11 [==============================] - 0s 3ms/step - loss: 0.3482 - accuracy: 0.3257\n",
            "3/3 [==============================] - 0s 6ms/step - loss: 0.3193 - accuracy: 0.3977\n",
            "11/11 [==============================] - 0s 2ms/step - loss: 0.3383 - accuracy: 0.3533\n",
            "3/3 [==============================] - 0s 4ms/step - loss: 0.3594 - accuracy: 0.2874\n",
            "11/11 [==============================] - 0s 2ms/step - loss: 0.3383 - accuracy: 0.3533\n",
            "3/3 [==============================] - 0s 4ms/step - loss: 0.3593 - accuracy: 0.2874\n",
            "11/11 [==============================] - 0s 2ms/step - loss: 0.3410 - accuracy: 0.3457\n",
            "3/3 [==============================] - 0s 6ms/step - loss: 0.3483 - accuracy: 0.3182\n",
            "11/11 [==============================] - 0s 2ms/step - loss: 0.3493 - accuracy: 0.3229\n",
            "3/3 [==============================] - 0s 4ms/step - loss: 0.3149 - accuracy: 0.4091\n",
            "11/11 [==============================] - 0s 3ms/step - loss: 0.3482 - accuracy: 0.3257\n",
            "3/3 [==============================] - 0s 4ms/step - loss: 0.3193 - accuracy: 0.3977\n",
            "11/11 [==============================] - 0s 2ms/step - loss: 0.3383 - accuracy: 0.3533\n",
            "3/3 [==============================] - 0s 5ms/step - loss: 0.3594 - accuracy: 0.2874\n",
            "11/11 [==============================] - 0s 2ms/step - loss: 0.3383 - accuracy: 0.3533\n",
            "3/3 [==============================] - 0s 5ms/step - loss: 0.3593 - accuracy: 0.2874\n",
            "11/11 [==============================] - 0s 2ms/step - loss: 0.3410 - accuracy: 0.3457\n",
            "3/3 [==============================] - 0s 4ms/step - loss: 0.3483 - accuracy: 0.3182\n",
            "11/11 [==============================] - 1s 2ms/step - loss: 0.3493 - accuracy: 0.3229\n",
            "3/3 [==============================] - 0s 4ms/step - loss: 0.3149 - accuracy: 0.4091\n",
            "11/11 [==============================] - 0s 2ms/step - loss: 0.3482 - accuracy: 0.3257\n",
            "3/3 [==============================] - 0s 4ms/step - loss: 0.3193 - accuracy: 0.3977\n",
            "11/11 [==============================] - 0s 2ms/step - loss: 0.3383 - accuracy: 0.3533\n",
            "3/3 [==============================] - 0s 4ms/step - loss: 0.3594 - accuracy: 0.2874\n",
            "11/11 [==============================] - 0s 2ms/step - loss: 0.3383 - accuracy: 0.3533\n",
            "3/3 [==============================] - 0s 3ms/step - loss: 0.3593 - accuracy: 0.2874\n",
            "11/11 [==============================] - 0s 2ms/step - loss: 0.3410 - accuracy: 0.3457\n",
            "3/3 [==============================] - 0s 4ms/step - loss: 0.3483 - accuracy: 0.3182\n",
            "11/11 [==============================] - 0s 2ms/step - loss: 0.3493 - accuracy: 0.3229\n",
            "3/3 [==============================] - 0s 4ms/step - loss: 0.3149 - accuracy: 0.4091\n",
            "11/11 [==============================] - 0s 2ms/step - loss: 0.3482 - accuracy: 0.3257\n",
            "3/3 [==============================] - 0s 4ms/step - loss: 0.3193 - accuracy: 0.3977\n",
            "11/11 [==============================] - 0s 2ms/step - loss: 0.3383 - accuracy: 0.3533\n",
            "3/3 [==============================] - 0s 4ms/step - loss: 0.3594 - accuracy: 0.2874\n",
            "11/11 [==============================] - 0s 2ms/step - loss: 0.3383 - accuracy: 0.3533\n",
            "3/3 [==============================] - 0s 4ms/step - loss: 0.3593 - accuracy: 0.2874\n",
            "11/11 [==============================] - 0s 2ms/step - loss: 0.3410 - accuracy: 0.3457\n",
            "3/3 [==============================] - 0s 4ms/step - loss: 0.3483 - accuracy: 0.3182\n",
            "11/11 [==============================] - 0s 2ms/step - loss: 0.3493 - accuracy: 0.3229\n",
            "3/3 [==============================] - 0s 4ms/step - loss: 0.3149 - accuracy: 0.4091\n",
            "11/11 [==============================] - 0s 2ms/step - loss: 0.3482 - accuracy: 0.3257\n",
            "3/3 [==============================] - 0s 3ms/step - loss: 0.3193 - accuracy: 0.3977\n",
            "11/11 [==============================] - 0s 2ms/step - loss: 0.3383 - accuracy: 0.3533\n",
            "3/3 [==============================] - 0s 7ms/step - loss: 0.3594 - accuracy: 0.2874\n",
            "11/11 [==============================] - 0s 2ms/step - loss: 0.3383 - accuracy: 0.3533\n",
            "3/3 [==============================] - 0s 7ms/step - loss: 0.3593 - accuracy: 0.2874\n",
            "11/11 [==============================] - 0s 2ms/step - loss: 0.3410 - accuracy: 0.3457\n",
            "3/3 [==============================] - 0s 4ms/step - loss: 0.3483 - accuracy: 0.3182\n",
            "11/11 [==============================] - 0s 2ms/step - loss: 0.3493 - accuracy: 0.3229\n",
            "3/3 [==============================] - 0s 5ms/step - loss: 0.3149 - accuracy: 0.4091\n",
            "11/11 [==============================] - 0s 2ms/step - loss: 0.3482 - accuracy: 0.3257\n",
            "3/3 [==============================] - 0s 3ms/step - loss: 0.3193 - accuracy: 0.3977\n",
            "11/11 [==============================] - 0s 2ms/step - loss: 0.3383 - accuracy: 0.3533\n",
            "3/3 [==============================] - 0s 3ms/step - loss: 0.3594 - accuracy: 0.2874\n",
            "11/11 [==============================] - 0s 2ms/step - loss: 0.3383 - accuracy: 0.3533\n",
            "3/3 [==============================] - 0s 5ms/step - loss: 0.3593 - accuracy: 0.2874\n",
            "14/14 [==============================] - 0s 2ms/step - loss: 0.3423 - accuracy: 0.3402\n"
          ],
          "name": "stdout"
        }
      ]
    },
    {
      "cell_type": "code",
      "metadata": {
        "colab": {
          "base_uri": "https://localhost:8080/"
        },
        "id": "GMJ8r-Pcbgsa",
        "outputId": "3fbcb0b9-7353-4162-8f34-1dc607097680"
      },
      "source": [
        "(grid_result.best_score_, grid_result.best_params_)"
      ],
      "execution_count": null,
      "outputs": [
        {
          "output_type": "execute_result",
          "data": {
            "text/plain": [
              "(0.3399425268173218, {'layer1': 3, 'layer2': 3})"
            ]
          },
          "metadata": {
            "tags": []
          },
          "execution_count": 7
        }
      ]
    },
    {
      "cell_type": "code",
      "metadata": {
        "id": "dAQziurqbpOu"
      },
      "source": [
        "NN1 = keras.Sequential()\n",
        "# Hidden layer 1\n",
        "NN1.add(keras.layers.Dense(3, input_dim = x_train.shape[1], activation='sigmoid'))\n",
        "# Hidden layer 2\n",
        "NN1.add(keras.layers.Dense(3, activation='sigmoid'))\n",
        "# Output layer\n",
        "NN1.add(keras.layers.Dense(1, activation='sigmoid'))\n",
        "NN1.compile(loss='mse', \n",
        "            optimizer='adam',\n",
        "            metrics=['accuracy', keras.metrics.Precision(name='Precision',thresholds=0.5), keras.metrics.Recall(name='Recall',thresholds=0.5)])"
      ],
      "execution_count": null,
      "outputs": []
    },
    {
      "cell_type": "code",
      "metadata": {
        "id": "heVIswZwb1D6"
      },
      "source": [
        "# Training\n",
        "result = NN1.fit(x_train, y_train, epochs=300, verbose=0)"
      ],
      "execution_count": null,
      "outputs": []
    },
    {
      "cell_type": "code",
      "metadata": {
        "colab": {
          "base_uri": "https://localhost:8080/"
        },
        "id": "B6jOIijFcDe_",
        "outputId": "8a1c434a-8ad0-4072-c0ef-32e0e2b6d489"
      },
      "source": [
        "# Evaluation of model\n",
        "training_stats = NN1.evaluate(x_train, y_train)\n",
        "print('Loss: ' + str(training_stats[0]))\n",
        "print('Accuracy: ' + str(training_stats[1]))\n",
        "print('Training Precision: ' + str(training_stats[2]))\n",
        "print('Training Recall: ' + str(training_stats[3]))"
      ],
      "execution_count": null,
      "outputs": [
        {
          "output_type": "stream",
          "text": [
            "14/14 [==============================] - 0s 2ms/step - loss: 0.0220 - accuracy: 0.9772 - Precision: 0.9542 - Recall: 0.9799\n",
            "Loss: 0.022014372050762177\n",
            "Accuracy: 0.9771689772605896\n",
            "Training Precision: 0.9542483687400818\n",
            "Training Recall: 0.9798657894134521\n"
          ],
          "name": "stdout"
        }
      ]
    },
    {
      "cell_type": "code",
      "metadata": {
        "id": "Q9yHF7R8dA_c",
        "colab": {
          "base_uri": "https://localhost:8080/"
        },
        "outputId": "34acc61c-5632-41e6-9ba2-1825dc0493df"
      },
      "source": [
        "testing_stats = NN1.evaluate(x_test, y_test)\n",
        "print('Loss: ' + str(testing_stats[0]))\n",
        "print('Accuracy: ' + str(testing_stats[1]))\n",
        "print('Testing Precision: ' + str(testing_stats[2]))\n",
        "print('Testing Recall: ' + str(testing_stats[3]))"
      ],
      "execution_count": null,
      "outputs": [
        {
          "output_type": "stream",
          "text": [
            "7/7 [==============================] - 0s 2ms/step - loss: 0.0247 - accuracy: 0.9722 - Precision: 0.9474 - Recall: 0.9730\n",
            "Loss: 0.024744514375925064\n",
            "Accuracy: 0.9722222089767456\n",
            "Testing Precision: 0.9473684430122375\n",
            "Testing Recall: 0.9729729890823364\n"
          ],
          "name": "stdout"
        }
      ]
    },
    {
      "cell_type": "markdown",
      "metadata": {
        "id": "1O324Z1jAamf"
      },
      "source": [
        "# Logistic Regression"
      ]
    },
    {
      "cell_type": "code",
      "metadata": {
        "colab": {
          "base_uri": "https://localhost:8080/"
        },
        "id": "ga7ema_V9j5J",
        "outputId": "1eb2295b-0884-4d10-cd1f-fb871b867163"
      },
      "source": [
        "# logistic regression model\n",
        "from sklearn.linear_model import LogisticRegression\n",
        "logReg = LogisticRegression()\n",
        "logReg.fit(x_train, y_train)\n",
        "print('Training Score:', logReg.score(x_train, y_train))\n",
        "print('Test Score:', logReg.score(x_test, y_test))"
      ],
      "execution_count": null,
      "outputs": [
        {
          "output_type": "stream",
          "text": [
            "Training Score: 0.9726027397260274\n",
            "Test Score: 0.9768518518518519\n"
          ],
          "name": "stdout"
        }
      ]
    },
    {
      "cell_type": "code",
      "metadata": {
        "colab": {
          "base_uri": "https://localhost:8080/"
        },
        "id": "ryJDGrRpFdlR",
        "outputId": "5313f9f7-6243-4b1c-9455-2dca11dd0fb0"
      },
      "source": [
        "# Precision and Recall\n",
        "from sklearn.metrics import precision_score, recall_score\n",
        "y_pred = logReg.predict(np.array(x_train))\n",
        "precision_training = precision_score(y_train,y_pred,average='macro',zero_division=0)\n",
        "recall_training = recall_score(y_train,y_pred,average='macro',zero_division=0)\n",
        "y_pred = logReg.predict(np.array(x_test))\n",
        "precision_testing = precision_score(y_test,y_pred,average='macro',zero_division=0)\n",
        "recall_testing = recall_score(y_test,y_pred,average='macro',zero_division=0)\n",
        "print('Training Precision: ' + str(precision_training))\n",
        "print('Training Recall: ' + str(recall_training))\n",
        "print('Testing Precision: ' + str(precision_testing))\n",
        "print('Testing Recall: ' + str(recall_testing))"
      ],
      "execution_count": null,
      "outputs": [
        {
          "output_type": "stream",
          "text": [
            "Training Precision: 0.9694851489747103\n",
            "Training Recall: 0.9694851489747103\n",
            "Testing Precision: 0.9758118593735032\n",
            "Testing Recall: 0.972687476208603\n"
          ],
          "name": "stdout"
        }
      ]
    },
    {
      "cell_type": "code",
      "metadata": {
        "colab": {
          "base_uri": "https://localhost:8080/"
        },
        "id": "fbADoJcDHhSR",
        "outputId": "d5617190-9aea-4006-9704-ad6ada3f3474"
      },
      "source": [
        "#ROC AUC\n",
        "from sklearn.metrics import roc_auc_score, roc_curve, plot_roc_curve\n",
        "y_pred = logReg.predict(np.array(df.iloc[:, 0:-1]))\n",
        "y_true = df['Class']\n",
        "roc_auc = roc_auc_score(y_true, y_pred, average='macro')\n",
        "roc_auc"
      ],
      "execution_count": null,
      "outputs": [
        {
          "output_type": "execute_result",
          "data": {
            "text/plain": [
              "0.9705398853432939"
            ]
          },
          "metadata": {
            "tags": []
          },
          "execution_count": 29
        }
      ]
    },
    {
      "cell_type": "code",
      "metadata": {
        "id": "KWh4i8hNA5Q-"
      },
      "source": [
        "(false_positive_rate, true_positive_rate, threshold) = roc_curve(y_true, y_pred)"
      ],
      "execution_count": null,
      "outputs": []
    },
    {
      "cell_type": "code",
      "metadata": {
        "colab": {
          "base_uri": "https://localhost:8080/",
          "height": 312
        },
        "id": "bJRuRDlpB1_L",
        "outputId": "6246351a-51fe-4e88-c33a-d28d1b84e04c"
      },
      "source": [
        "# Plotting ROC curve\n",
        "import matplotlib.pyplot as plt\n",
        "plt.plot(false_positive_rate, true_positive_rate)\n",
        "plt.title('ROC Curve for Logistic Regression')\n",
        "plt.ylabel('True Positive Rate')\n",
        "plt.xlabel('False Positive Rate')"
      ],
      "execution_count": null,
      "outputs": [
        {
          "output_type": "execute_result",
          "data": {
            "text/plain": [
              "Text(0.5, 0, 'False Positive Rate')"
            ]
          },
          "metadata": {
            "tags": []
          },
          "execution_count": 31
        },
        {
          "output_type": "display_data",
          "data": {
            "image/png": "[encoded data removed]",
            "text/plain": [
              "<Figure size 432x288 with 1 Axes>"
            ]
          },
          "metadata": {
            "tags": [],
            "needs_background": "light"
          }
        }
      ]
    },
    {
      "cell_type": "markdown",
      "metadata": {
        "id": "Fik7XW_nAuBd"
      },
      "source": [
        "# Decision Tree"
      ]
    },
    {
      "cell_type": "code",
      "metadata": {
        "id": "Jqk1jHB5J4ca"
      },
      "source": [
        "from sklearn import tree\n",
        "model3 = tree.DecisionTreeClassifier()\n",
        "model3 = model3.fit(X, Y)\n",
        "y_pred = model3.predict(x_test)"
      ],
      "execution_count": null,
      "outputs": []
    },
    {
      "cell_type": "code",
      "metadata": {
        "colab": {
          "base_uri": "https://localhost:8080/"
        },
        "id": "80hwMZSVbWc_",
        "outputId": "12bfe893-40ec-46cf-a63f-7a33b67b1072"
      },
      "source": [
        "from sklearn.metrics import accuracy_score\n",
        "testing_accuracy = accuracy_score(y_test, y_pred)\n",
        "testing_accuracy"
      ],
      "execution_count": null,
      "outputs": [
        {
          "output_type": "execute_result",
          "data": {
            "text/plain": [
              "1.0"
            ]
          },
          "metadata": {
            "tags": []
          },
          "execution_count": 49
        }
      ]
    },
    {
      "cell_type": "code",
      "metadata": {
        "colab": {
          "base_uri": "https://localhost:8080/"
        },
        "id": "bYc_kJy7cTTd",
        "outputId": "e0f30192-eb78-4071-90de-0834097f466a"
      },
      "source": [
        "precision_testing = precision_score(y_test,y_pred,average='macro',zero_division=0)\n",
        "recall_testing = recall_score(y_test,y_pred,average='macro',zero_division=0)\n",
        "print('Testing Precision: ' + str(precision_testing))\n",
        "print('Testing Recall: ' + str(recall_testing))"
      ],
      "execution_count": null,
      "outputs": [
        {
          "output_type": "stream",
          "text": [
            "Testing Precision: 1.0\n",
            "Testing Recall: 1.0\n"
          ],
          "name": "stdout"
        }
      ]
    }
  ]
}